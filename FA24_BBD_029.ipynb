{
 "cells": [
  {
   "cell_type": "code",
   "execution_count": 4,
   "id": "a7d58a57-2bc3-4d70-987c-76a1c61261c7",
   "metadata": {},
   "outputs": [
    {
     "name": "stdout",
     "output_type": "stream",
     "text": [
      "1\n",
      "2\n",
      "3\n",
      "4\n",
      "5\n",
      "6\n",
      "7\n",
      "8\n",
      "9\n",
      "10\n"
     ]
    }
   ],
   "source": [
    "#question 1\n",
    "i = 1\n",
    "while i != 11:\n",
    "    print(i)\n",
    "    i+=1"
   ]
  },
  {
   "cell_type": "code",
   "execution_count": null,
   "id": "2d2bb74f-372b-4b43-90ec-3e2cbe5efdff",
   "metadata": {},
   "outputs": [],
   "source": [
    "#question 2\n",
    "i = 1\n",
    "while i != 21:\n",
    "    if i % 2==0:\n",
    "        print(i)\n",
    "        i+=1"
   ]
  },
  {
   "cell_type": "code",
   "execution_count": null,
   "id": "38495657-4626-42a9-aa7f-0be273b65cbb",
   "metadata": {},
   "outputs": [],
   "source": [
    "#question 3\n",
    "i = 1\n",
    "sum = 0\n",
    "while i != 11:\n",
    "    print(i)\n",
    "    sum += i\n",
    "    i += 1\n",
    "print(\"sum is \",sum)"
   ]
  },
  {
   "cell_type": "code",
   "execution_count": null,
   "id": "5c7b5254-6f20-4373-878a-1ed23ece1444",
   "metadata": {},
   "outputs": [],
   "source": [
    "#question 4\n",
    "sum = 0\n",
    "flag = True\n",
    "while flag:\n",
    "    num=int(input(\"enter number\"))\n",
    "    if num < 0:\n",
    "        flag = False\n",
    "    sum += num\n",
    "print(\"your total is \",sum)"
   ]
  },
  {
   "cell_type": "code",
   "execution_count": null,
   "id": "406e995d-7916-483c-81f0-381cc304a715",
   "metadata": {},
   "outputs": [],
   "source": [
    "#question 5\n",
    "num = random.randint(1, 100)\n",
    "while num != ans:\n",
    "    ans = int(input(\"guess the number\"))\n",
    "    if ans > num:\n",
    "        print(\"too high\")\n",
    "    elif ans < num:\n",
    "        print(\"too low\")\n",
    "    else:\n",
    "        print(\"you guesses right\")"
   ]
  },
  {
   "cell_type": "code",
   "execution_count": null,
   "id": "f7699fd0-a1fa-483f-a196-8d6ec2e89734",
   "metadata": {},
   "outputs": [],
   "source": [
    "#question 6\n",
    "num = int(input(\"Enter a number\"))\n",
    "factorial=1\n",
    "i=1\n",
    "while i <= num:\n",
    "    factorial *= i\n",
    "    i+=1\n",
    "print(\"factorial is\", factorial)"
   ]
  },
  {
   "cell_type": "code",
   "execution_count": null,
   "id": "bac2bc13-f828-4896-9997-3991de4bcd09",
   "metadata": {},
   "outputs": [],
   "source": [
    "#question 7\n",
    "t=0\n",
    "c=0\n",
    "while True:\n",
    "    num = input(\"Enter a number or done to calculate average\")\n",
    "    if num.lower()== \"done\":\n",
    "        break\n",
    "    total+=float(num)\n",
    "    c += 1\n",
    "print(\"Average is\", total / count )"
   ]
  },
  {
   "cell_type": "code",
   "execution_count": null,
   "id": "01958419-97d1-4705-b51d-e8ca9df61a53",
   "metadata": {},
   "outputs": [],
   "source": [
    "#question 8\n",
    "num = int(input(\"Enter a number:\"))\n",
    "a=0\n",
    "b=1\n",
    "while a <= num:\n",
    "    print(a, end=\" \")\n",
    "    a, b = b, a + b"
   ]
  },
  {
   "cell_type": "code",
   "execution_count": null,
   "id": "5bdb7e8f-a5a6-4285-835a-0df92de33e6c",
   "metadata": {},
   "outputs": [],
   "source": []
  },
  {
   "cell_type": "code",
   "execution_count": null,
   "id": "21d010b6-d2ea-408b-8cab-28950260c051",
   "metadata": {},
   "outputs": [],
   "source": []
  }
 ],
 "metadata": {
  "kernelspec": {
   "display_name": "Python 3 (ipykernel)",
   "language": "python",
   "name": "python3"
  },
  "language_info": {
   "codemirror_mode": {
    "name": "ipython",
    "version": 3
   },
   "file_extension": ".py",
   "mimetype": "text/x-python",
   "name": "python",
   "nbconvert_exporter": "python",
   "pygments_lexer": "ipython3",
   "version": "3.12.4"
  }
 },
 "nbformat": 4,
 "nbformat_minor": 5
}
